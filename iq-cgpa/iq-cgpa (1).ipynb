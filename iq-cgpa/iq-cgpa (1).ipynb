{
 "cells": [
  {
   "cell_type": "code",
   "execution_count": 1,
   "id": "b179b500",
   "metadata": {
    "_cell_guid": "b1076dfc-b9ad-4769-8c92-a6c4dae69d19",
    "_uuid": "8f2839f25d086af736a60e9eeb907d3b93b6e0e5",
    "execution": {
     "iopub.execute_input": "2024-04-21T08:17:23.131942Z",
     "iopub.status.busy": "2024-04-21T08:17:23.131520Z",
     "iopub.status.idle": "2024-04-21T08:17:24.061512Z",
     "shell.execute_reply": "2024-04-21T08:17:24.060412Z"
    },
    "papermill": {
     "duration": 0.944477,
     "end_time": "2024-04-21T08:17:24.064420",
     "exception": false,
     "start_time": "2024-04-21T08:17:23.119943",
     "status": "completed"
    },
    "tags": []
   },
   "outputs": [
    {
     "name": "stdout",
     "output_type": "stream",
     "text": [
      "/kaggle/input/cpga-iq-placement/student_clustering.csv\n"
     ]
    }
   ],
   "source": [
    "# This Python 3 environment comes with many helpful analytics libraries installed\n",
    "# It is defined by the kaggle/python Docker image: https://github.com/kaggle/docker-python\n",
    "# For example, here's several helpful packages to load\n",
    "\n",
    "import numpy as np # linear algebra\n",
    "import pandas as pd # data processing, CSV file I/O (e.g. pd.read_csv)\n",
    "\n",
    "# Input data files are available in the read-only \"../input/\" directory\n",
    "# For example, running this (by clicking run or pressing Shift+Enter) will list all files under the input directory\n",
    "\n",
    "import os\n",
    "for dirname, _, filenames in os.walk('/kaggle/input'):\n",
    "    for filename in filenames:\n",
    "        print(os.path.join(dirname, filename))\n",
    "\n",
    "# You can write up to 20GB to the current directory (/kaggle/working/) that gets preserved as output when you create a version using \"Save & Run All\" \n",
    "# You can also write temporary files to /kaggle/temp/, but they won't be saved outside of the current session"
   ]
  },
  {
   "cell_type": "markdown",
   "id": "746ea66e",
   "metadata": {
    "papermill": {
     "duration": 0.007938,
     "end_time": "2024-04-21T08:17:24.080845",
     "exception": false,
     "start_time": "2024-04-21T08:17:24.072907",
     "status": "completed"
    },
    "tags": []
   },
   "source": [
    "Importing necessary libraries"
   ]
  },
  {
   "cell_type": "code",
   "execution_count": 2,
   "id": "f380aa04",
   "metadata": {
    "execution": {
     "iopub.execute_input": "2024-04-21T08:17:24.099250Z",
     "iopub.status.busy": "2024-04-21T08:17:24.098624Z",
     "iopub.status.idle": "2024-04-21T08:17:25.949852Z",
     "shell.execute_reply": "2024-04-21T08:17:25.948718Z"
    },
    "papermill": {
     "duration": 1.863611,
     "end_time": "2024-04-21T08:17:25.952698",
     "exception": false,
     "start_time": "2024-04-21T08:17:24.089087",
     "status": "completed"
    },
    "tags": []
   },
   "outputs": [],
   "source": [
    "import numpy as np\n",
    "import pandas as pd\n",
    "import seaborn as sns\n",
    "from sklearn.model_selection import train_test_split\n",
    "from sklearn.metrics import mean_squared_error,accuracy_score\n",
    "from sklearn.impute import SimpleImputer\n",
    "from sklearn.svm import SVR"
   ]
  },
  {
   "cell_type": "markdown",
   "id": "8e9f6ebd",
   "metadata": {
    "papermill": {
     "duration": 0.007934,
     "end_time": "2024-04-21T08:17:25.969135",
     "exception": false,
     "start_time": "2024-04-21T08:17:25.961201",
     "status": "completed"
    },
    "tags": []
   },
   "source": [
    "Loading the dataset"
   ]
  },
  {
   "cell_type": "code",
   "execution_count": 3,
   "id": "597b352e",
   "metadata": {
    "execution": {
     "iopub.execute_input": "2024-04-21T08:17:25.987570Z",
     "iopub.status.busy": "2024-04-21T08:17:25.987146Z",
     "iopub.status.idle": "2024-04-21T08:17:26.029219Z",
     "shell.execute_reply": "2024-04-21T08:17:26.028079Z"
    },
    "papermill": {
     "duration": 0.05469,
     "end_time": "2024-04-21T08:17:26.032051",
     "exception": false,
     "start_time": "2024-04-21T08:17:25.977361",
     "status": "completed"
    },
    "tags": []
   },
   "outputs": [
    {
     "data": {
      "text/html": [
       "<div>\n",
       "<style scoped>\n",
       "    .dataframe tbody tr th:only-of-type {\n",
       "        vertical-align: middle;\n",
       "    }\n",
       "\n",
       "    .dataframe tbody tr th {\n",
       "        vertical-align: top;\n",
       "    }\n",
       "\n",
       "    .dataframe thead th {\n",
       "        text-align: right;\n",
       "    }\n",
       "</style>\n",
       "<table border=\"1\" class=\"dataframe\">\n",
       "  <thead>\n",
       "    <tr style=\"text-align: right;\">\n",
       "      <th></th>\n",
       "      <th>cgpa</th>\n",
       "      <th>iq</th>\n",
       "    </tr>\n",
       "  </thead>\n",
       "  <tbody>\n",
       "    <tr>\n",
       "      <th>0</th>\n",
       "      <td>5.13</td>\n",
       "      <td>88</td>\n",
       "    </tr>\n",
       "    <tr>\n",
       "      <th>1</th>\n",
       "      <td>5.90</td>\n",
       "      <td>113</td>\n",
       "    </tr>\n",
       "    <tr>\n",
       "      <th>2</th>\n",
       "      <td>8.36</td>\n",
       "      <td>93</td>\n",
       "    </tr>\n",
       "    <tr>\n",
       "      <th>3</th>\n",
       "      <td>8.27</td>\n",
       "      <td>97</td>\n",
       "    </tr>\n",
       "    <tr>\n",
       "      <th>4</th>\n",
       "      <td>5.45</td>\n",
       "      <td>110</td>\n",
       "    </tr>\n",
       "    <tr>\n",
       "      <th>...</th>\n",
       "      <td>...</td>\n",
       "      <td>...</td>\n",
       "    </tr>\n",
       "    <tr>\n",
       "      <th>195</th>\n",
       "      <td>4.68</td>\n",
       "      <td>89</td>\n",
       "    </tr>\n",
       "    <tr>\n",
       "      <th>196</th>\n",
       "      <td>8.57</td>\n",
       "      <td>118</td>\n",
       "    </tr>\n",
       "    <tr>\n",
       "      <th>197</th>\n",
       "      <td>5.85</td>\n",
       "      <td>112</td>\n",
       "    </tr>\n",
       "    <tr>\n",
       "      <th>198</th>\n",
       "      <td>6.23</td>\n",
       "      <td>108</td>\n",
       "    </tr>\n",
       "    <tr>\n",
       "      <th>199</th>\n",
       "      <td>8.82</td>\n",
       "      <td>117</td>\n",
       "    </tr>\n",
       "  </tbody>\n",
       "</table>\n",
       "<p>200 rows × 2 columns</p>\n",
       "</div>"
      ],
      "text/plain": [
       "     cgpa   iq\n",
       "0    5.13   88\n",
       "1    5.90  113\n",
       "2    8.36   93\n",
       "3    8.27   97\n",
       "4    5.45  110\n",
       "..    ...  ...\n",
       "195  4.68   89\n",
       "196  8.57  118\n",
       "197  5.85  112\n",
       "198  6.23  108\n",
       "199  8.82  117\n",
       "\n",
       "[200 rows x 2 columns]"
      ]
     },
     "execution_count": 3,
     "metadata": {},
     "output_type": "execute_result"
    }
   ],
   "source": [
    "df=pd.read_csv('/kaggle/input/cpga-iq-placement/student_clustering.csv')\n",
    "df"
   ]
  },
  {
   "cell_type": "code",
   "execution_count": 4,
   "id": "2c5708f6",
   "metadata": {
    "execution": {
     "iopub.execute_input": "2024-04-21T08:17:26.052159Z",
     "iopub.status.busy": "2024-04-21T08:17:26.051008Z",
     "iopub.status.idle": "2024-04-21T08:17:26.062605Z",
     "shell.execute_reply": "2024-04-21T08:17:26.061481Z"
    },
    "papermill": {
     "duration": 0.024388,
     "end_time": "2024-04-21T08:17:26.065101",
     "exception": false,
     "start_time": "2024-04-21T08:17:26.040713",
     "status": "completed"
    },
    "tags": []
   },
   "outputs": [
    {
     "data": {
      "text/html": [
       "<div>\n",
       "<style scoped>\n",
       "    .dataframe tbody tr th:only-of-type {\n",
       "        vertical-align: middle;\n",
       "    }\n",
       "\n",
       "    .dataframe tbody tr th {\n",
       "        vertical-align: top;\n",
       "    }\n",
       "\n",
       "    .dataframe thead th {\n",
       "        text-align: right;\n",
       "    }\n",
       "</style>\n",
       "<table border=\"1\" class=\"dataframe\">\n",
       "  <thead>\n",
       "    <tr style=\"text-align: right;\">\n",
       "      <th></th>\n",
       "      <th>cgpa</th>\n",
       "      <th>iq</th>\n",
       "    </tr>\n",
       "  </thead>\n",
       "  <tbody>\n",
       "    <tr>\n",
       "      <th>0</th>\n",
       "      <td>5.13</td>\n",
       "      <td>88</td>\n",
       "    </tr>\n",
       "    <tr>\n",
       "      <th>1</th>\n",
       "      <td>5.90</td>\n",
       "      <td>113</td>\n",
       "    </tr>\n",
       "    <tr>\n",
       "      <th>2</th>\n",
       "      <td>8.36</td>\n",
       "      <td>93</td>\n",
       "    </tr>\n",
       "    <tr>\n",
       "      <th>3</th>\n",
       "      <td>8.27</td>\n",
       "      <td>97</td>\n",
       "    </tr>\n",
       "    <tr>\n",
       "      <th>4</th>\n",
       "      <td>5.45</td>\n",
       "      <td>110</td>\n",
       "    </tr>\n",
       "  </tbody>\n",
       "</table>\n",
       "</div>"
      ],
      "text/plain": [
       "   cgpa   iq\n",
       "0  5.13   88\n",
       "1  5.90  113\n",
       "2  8.36   93\n",
       "3  8.27   97\n",
       "4  5.45  110"
      ]
     },
     "execution_count": 4,
     "metadata": {},
     "output_type": "execute_result"
    }
   ],
   "source": [
    "df.head(5)"
   ]
  },
  {
   "cell_type": "code",
   "execution_count": 5,
   "id": "05eb85f1",
   "metadata": {
    "execution": {
     "iopub.execute_input": "2024-04-21T08:17:26.085072Z",
     "iopub.status.busy": "2024-04-21T08:17:26.084161Z",
     "iopub.status.idle": "2024-04-21T08:17:27.554928Z",
     "shell.execute_reply": "2024-04-21T08:17:27.553735Z"
    },
    "papermill": {
     "duration": 1.483409,
     "end_time": "2024-04-21T08:17:27.557518",
     "exception": false,
     "start_time": "2024-04-21T08:17:26.074109",
     "status": "completed"
    },
    "tags": []
   },
   "outputs": [
    {
     "name": "stderr",
     "output_type": "stream",
     "text": [
      "/opt/conda/lib/python3.10/site-packages/seaborn/_oldcore.py:1119: FutureWarning: use_inf_as_na option is deprecated and will be removed in a future version. Convert inf values to NaN before operating instead.\n",
      "  with pd.option_context('mode.use_inf_as_na', True):\n",
      "/opt/conda/lib/python3.10/site-packages/seaborn/_oldcore.py:1119: FutureWarning: use_inf_as_na option is deprecated and will be removed in a future version. Convert inf values to NaN before operating instead.\n",
      "  with pd.option_context('mode.use_inf_as_na', True):\n"
     ]
    },
    {
     "data": {
      "text/plain": [
       "<seaborn.axisgrid.PairGrid at 0x7a20c6615750>"
      ]
     },
     "execution_count": 5,
     "metadata": {},
     "output_type": "execute_result"
    },
    {
     "data": {
      "image/png": "[encoded data removed]",
      "text/plain": [
       "<Figure size 500x500 with 6 Axes>"
      ]
     },
     "metadata": {},
     "output_type": "display_data"
    }
   ],
   "source": [
    "sns.pairplot(df)"
   ]
  },
  {
   "cell_type": "markdown",
   "id": "1ad6d75f",
   "metadata": {
    "papermill": {
     "duration": 0.009834,
     "end_time": "2024-04-21T08:17:27.577424",
     "exception": false,
     "start_time": "2024-04-21T08:17:27.567590",
     "status": "completed"
    },
    "tags": []
   },
   "source": [
    "Plotting a scatter plot between iq and cgpa  where iq is on X-axis and cgpa is on y-axis"
   ]
  },
  {
   "cell_type": "code",
   "execution_count": 6,
   "id": "9dff4ea8",
   "metadata": {
    "execution": {
     "iopub.execute_input": "2024-04-21T08:17:27.600166Z",
     "iopub.status.busy": "2024-04-21T08:17:27.599405Z",
     "iopub.status.idle": "2024-04-21T08:17:27.918269Z",
     "shell.execute_reply": "2024-04-21T08:17:27.917103Z"
    },
    "papermill": {
     "duration": 0.333655,
     "end_time": "2024-04-21T08:17:27.920858",
     "exception": false,
     "start_time": "2024-04-21T08:17:27.587203",
     "status": "completed"
    },
    "tags": []
   },
   "outputs": [
    {
     "data": {
      "text/plain": [
       "<Axes: xlabel='iq', ylabel='cgpa'>"
      ]
     },
     "execution_count": 6,
     "metadata": {},
     "output_type": "execute_result"
    },
    {
     "data": {
      "image/png": "[encoded data removed]",
      "text/plain": [
       "<Figure size 640x480 with 1 Axes>"
      ]
     },
     "metadata": {},
     "output_type": "display_data"
    }
   ],
   "source": [
    "sns.scatterplot(data=df,x='iq',y='cgpa')"
   ]
  },
  {
   "cell_type": "code",
   "execution_count": 7,
   "id": "085e5d5a",
   "metadata": {
    "execution": {
     "iopub.execute_input": "2024-04-21T08:17:27.943691Z",
     "iopub.status.busy": "2024-04-21T08:17:27.943275Z",
     "iopub.status.idle": "2024-04-21T08:17:28.325812Z",
     "shell.execute_reply": "2024-04-21T08:17:28.324689Z"
    },
    "papermill": {
     "duration": 0.397057,
     "end_time": "2024-04-21T08:17:28.328401",
     "exception": false,
     "start_time": "2024-04-21T08:17:27.931344",
     "status": "completed"
    },
    "tags": []
   },
   "outputs": [
    {
     "name": "stderr",
     "output_type": "stream",
     "text": [
      "/tmp/ipykernel_18/4191852838.py:1: UserWarning: \n",
      "\n",
      "`distplot` is a deprecated function and will be removed in seaborn v0.14.0.\n",
      "\n",
      "Please adapt your code to use either `displot` (a figure-level function with\n",
      "similar flexibility) or `histplot` (an axes-level function for histograms).\n",
      "\n",
      "For a guide to updating your code to use the new functions, please see\n",
      "https://gist.github.com/mwaskom/de44147ed2974457ad6372750bbe5751\n",
      "\n",
      "  sns.distplot(df['iq'])\n",
      "/opt/conda/lib/python3.10/site-packages/seaborn/_oldcore.py:1119: FutureWarning: use_inf_as_na option is deprecated and will be removed in a future version. Convert inf values to NaN before operating instead.\n",
      "  with pd.option_context('mode.use_inf_as_na', True):\n"
     ]
    },
    {
     "data": {
      "text/plain": [
       "<Axes: xlabel='iq', ylabel='Density'>"
      ]
     },
     "execution_count": 7,
     "metadata": {},
     "output_type": "execute_result"
    },
    {
     "data": {
      "image/png": "[encoded data removed]",
      "text/plain": [
       "<Figure size 640x480 with 1 Axes>"
      ]
     },
     "metadata": {},
     "output_type": "display_data"
    }
   ],
   "source": [
    "sns.distplot(df['iq'])"
   ]
  },
  {
   "cell_type": "code",
   "execution_count": 8,
   "id": "e9feb7fd",
   "metadata": {
    "execution": {
     "iopub.execute_input": "2024-04-21T08:17:28.354126Z",
     "iopub.status.busy": "2024-04-21T08:17:28.353149Z",
     "iopub.status.idle": "2024-04-21T08:17:29.136209Z",
     "shell.execute_reply": "2024-04-21T08:17:29.135061Z"
    },
    "papermill": {
     "duration": 0.799044,
     "end_time": "2024-04-21T08:17:29.138846",
     "exception": false,
     "start_time": "2024-04-21T08:17:28.339802",
     "status": "completed"
    },
    "tags": []
   },
   "outputs": [
    {
     "name": "stderr",
     "output_type": "stream",
     "text": [
      "/opt/conda/lib/python3.10/site-packages/seaborn/_oldcore.py:1119: FutureWarning: use_inf_as_na option is deprecated and will be removed in a future version. Convert inf values to NaN before operating instead.\n",
      "  with pd.option_context('mode.use_inf_as_na', True):\n",
      "/opt/conda/lib/python3.10/site-packages/seaborn/_oldcore.py:1119: FutureWarning: use_inf_as_na option is deprecated and will be removed in a future version. Convert inf values to NaN before operating instead.\n",
      "  with pd.option_context('mode.use_inf_as_na', True):\n"
     ]
    },
    {
     "data": {
      "text/plain": [
       "<seaborn.axisgrid.JointGrid at 0x7a20e5b85a20>"
      ]
     },
     "execution_count": 8,
     "metadata": {},
     "output_type": "execute_result"
    },
    {
     "data": {
      "image/png": "[encoded data removed]",
      "text/plain": [
       "<Figure size 600x600 with 3 Axes>"
      ]
     },
     "metadata": {},
     "output_type": "display_data"
    }
   ],
   "source": [
    "sns.jointplot(x=df['iq'],y=df['cgpa'])"
   ]
  },
  {
   "cell_type": "code",
   "execution_count": 9,
   "id": "adec47a0",
   "metadata": {
    "execution": {
     "iopub.execute_input": "2024-04-21T08:17:29.164640Z",
     "iopub.status.busy": "2024-04-21T08:17:29.164226Z",
     "iopub.status.idle": "2024-04-21T08:17:29.531904Z",
     "shell.execute_reply": "2024-04-21T08:17:29.529922Z"
    },
    "papermill": {
     "duration": 0.388064,
     "end_time": "2024-04-21T08:17:29.538822",
     "exception": false,
     "start_time": "2024-04-21T08:17:29.150758",
     "status": "completed"
    },
    "tags": []
   },
   "outputs": [
    {
     "name": "stderr",
     "output_type": "stream",
     "text": [
      "/tmp/ipykernel_18/2535591610.py:1: UserWarning: \n",
      "\n",
      "`distplot` is a deprecated function and will be removed in seaborn v0.14.0.\n",
      "\n",
      "Please adapt your code to use either `displot` (a figure-level function with\n",
      "similar flexibility) or `histplot` (an axes-level function for histograms).\n",
      "\n",
      "For a guide to updating your code to use the new functions, please see\n",
      "https://gist.github.com/mwaskom/de44147ed2974457ad6372750bbe5751\n",
      "\n",
      "  sns.distplot(df['cgpa'])\n",
      "/opt/conda/lib/python3.10/site-packages/seaborn/_oldcore.py:1119: FutureWarning: use_inf_as_na option is deprecated and will be removed in a future version. Convert inf values to NaN before operating instead.\n",
      "  with pd.option_context('mode.use_inf_as_na', True):\n"
     ]
    },
    {
     "data": {
      "text/plain": [
       "<Axes: xlabel='cgpa', ylabel='Density'>"
      ]
     },
     "execution_count": 9,
     "metadata": {},
     "output_type": "execute_result"
    },
    {
     "data": {
      "image/png": "[encoded data removed]",
      "text/plain": [
       "<Figure size 640x480 with 1 Axes>"
      ]
     },
     "metadata": {},
     "output_type": "display_data"
    }
   ],
   "source": [
    "sns.distplot(df['cgpa'])"
   ]
  },
  {
   "cell_type": "code",
   "execution_count": 10,
   "id": "5a9c8681",
   "metadata": {
    "execution": {
     "iopub.execute_input": "2024-04-21T08:17:29.570569Z",
     "iopub.status.busy": "2024-04-21T08:17:29.570143Z",
     "iopub.status.idle": "2024-04-21T08:17:29.589107Z",
     "shell.execute_reply": "2024-04-21T08:17:29.588004Z"
    },
    "papermill": {
     "duration": 0.036013,
     "end_time": "2024-04-21T08:17:29.591715",
     "exception": false,
     "start_time": "2024-04-21T08:17:29.555702",
     "status": "completed"
    },
    "tags": []
   },
   "outputs": [
    {
     "data": {
      "text/html": [
       "<div>\n",
       "<style scoped>\n",
       "    .dataframe tbody tr th:only-of-type {\n",
       "        vertical-align: middle;\n",
       "    }\n",
       "\n",
       "    .dataframe tbody tr th {\n",
       "        vertical-align: top;\n",
       "    }\n",
       "\n",
       "    .dataframe thead th {\n",
       "        text-align: right;\n",
       "    }\n",
       "</style>\n",
       "<table border=\"1\" class=\"dataframe\">\n",
       "  <thead>\n",
       "    <tr style=\"text-align: right;\">\n",
       "      <th></th>\n",
       "      <th>cgpa</th>\n",
       "      <th>iq</th>\n",
       "    </tr>\n",
       "  </thead>\n",
       "  <tbody>\n",
       "    <tr>\n",
       "      <th>count</th>\n",
       "      <td>200.000000</td>\n",
       "      <td>200.000000</td>\n",
       "    </tr>\n",
       "    <tr>\n",
       "      <th>mean</th>\n",
       "      <td>6.983400</td>\n",
       "      <td>101.995000</td>\n",
       "    </tr>\n",
       "    <tr>\n",
       "      <th>std</th>\n",
       "      <td>1.624101</td>\n",
       "      <td>12.161599</td>\n",
       "    </tr>\n",
       "    <tr>\n",
       "      <th>min</th>\n",
       "      <td>4.600000</td>\n",
       "      <td>83.000000</td>\n",
       "    </tr>\n",
       "    <tr>\n",
       "      <th>25%</th>\n",
       "      <td>5.407500</td>\n",
       "      <td>91.000000</td>\n",
       "    </tr>\n",
       "    <tr>\n",
       "      <th>50%</th>\n",
       "      <td>7.040000</td>\n",
       "      <td>102.000000</td>\n",
       "    </tr>\n",
       "    <tr>\n",
       "      <th>75%</th>\n",
       "      <td>8.585000</td>\n",
       "      <td>113.000000</td>\n",
       "    </tr>\n",
       "    <tr>\n",
       "      <th>max</th>\n",
       "      <td>9.300000</td>\n",
       "      <td>121.000000</td>\n",
       "    </tr>\n",
       "  </tbody>\n",
       "</table>\n",
       "</div>"
      ],
      "text/plain": [
       "             cgpa          iq\n",
       "count  200.000000  200.000000\n",
       "mean     6.983400  101.995000\n",
       "std      1.624101   12.161599\n",
       "min      4.600000   83.000000\n",
       "25%      5.407500   91.000000\n",
       "50%      7.040000  102.000000\n",
       "75%      8.585000  113.000000\n",
       "max      9.300000  121.000000"
      ]
     },
     "execution_count": 10,
     "metadata": {},
     "output_type": "execute_result"
    }
   ],
   "source": [
    "df.describe()"
   ]
  },
  {
   "cell_type": "markdown",
   "id": "f562b913",
   "metadata": {
    "papermill": {
     "duration": 0.012759,
     "end_time": "2024-04-21T08:17:29.617637",
     "exception": false,
     "start_time": "2024-04-21T08:17:29.604878",
     "status": "completed"
    },
    "tags": []
   },
   "source": [
    "Using simple imputer to hadle the missing or unknown values.here we are filling the missing values with mean"
   ]
  },
  {
   "cell_type": "code",
   "execution_count": 11,
   "id": "2117bc64",
   "metadata": {
    "execution": {
     "iopub.execute_input": "2024-04-21T08:17:29.645438Z",
     "iopub.status.busy": "2024-04-21T08:17:29.644742Z",
     "iopub.status.idle": "2024-04-21T08:17:29.655636Z",
     "shell.execute_reply": "2024-04-21T08:17:29.654504Z"
    },
    "papermill": {
     "duration": 0.027473,
     "end_time": "2024-04-21T08:17:29.658001",
     "exception": false,
     "start_time": "2024-04-21T08:17:29.630528",
     "status": "completed"
    },
    "tags": []
   },
   "outputs": [],
   "source": [
    "imputer=SimpleImputer(strategy='mean')\n",
    "df[['cgpa','iq']]=imputer.fit_transform(df[['cgpa','iq']])"
   ]
  },
  {
   "cell_type": "code",
   "execution_count": 12,
   "id": "e455ac72",
   "metadata": {
    "execution": {
     "iopub.execute_input": "2024-04-21T08:17:29.694462Z",
     "iopub.status.busy": "2024-04-21T08:17:29.693906Z",
     "iopub.status.idle": "2024-04-21T08:17:29.702174Z",
     "shell.execute_reply": "2024-04-21T08:17:29.700829Z"
    },
    "papermill": {
     "duration": 0.029183,
     "end_time": "2024-04-21T08:17:29.704607",
     "exception": false,
     "start_time": "2024-04-21T08:17:29.675424",
     "status": "completed"
    },
    "tags": []
   },
   "outputs": [],
   "source": [
    "X=df[['cgpa']]\n",
    "y=df['iq']"
   ]
  },
  {
   "cell_type": "markdown",
   "id": "8a75f3a8",
   "metadata": {
    "papermill": {
     "duration": 0.017144,
     "end_time": "2024-04-21T08:17:29.738818",
     "exception": false,
     "start_time": "2024-04-21T08:17:29.721674",
     "status": "completed"
    },
    "tags": []
   },
   "source": [
    "Splitting the data into training and testing set"
   ]
  },
  {
   "cell_type": "code",
   "execution_count": 13,
   "id": "0f58f9a5",
   "metadata": {
    "execution": {
     "iopub.execute_input": "2024-04-21T08:17:29.767243Z",
     "iopub.status.busy": "2024-04-21T08:17:29.766425Z",
     "iopub.status.idle": "2024-04-21T08:17:29.774203Z",
     "shell.execute_reply": "2024-04-21T08:17:29.773042Z"
    },
    "papermill": {
     "duration": 0.02452,
     "end_time": "2024-04-21T08:17:29.776604",
     "exception": false,
     "start_time": "2024-04-21T08:17:29.752084",
     "status": "completed"
    },
    "tags": []
   },
   "outputs": [],
   "source": [
    "X_train,X_test,y_train,y_test=train_test_split(X,y,test_size=0.1)"
   ]
  },
  {
   "cell_type": "markdown",
   "id": "0f199831",
   "metadata": {
    "papermill": {
     "duration": 0.012723,
     "end_time": "2024-04-21T08:17:29.802737",
     "exception": false,
     "start_time": "2024-04-21T08:17:29.790014",
     "status": "completed"
    },
    "tags": []
   },
   "source": [
    "Here in this code i am using SVR(support vector regression)"
   ]
  },
  {
   "cell_type": "code",
   "execution_count": 14,
   "id": "c7d43f93",
   "metadata": {
    "execution": {
     "iopub.execute_input": "2024-04-21T08:17:29.830832Z",
     "iopub.status.busy": "2024-04-21T08:17:29.830434Z",
     "iopub.status.idle": "2024-04-21T08:17:29.835782Z",
     "shell.execute_reply": "2024-04-21T08:17:29.834743Z"
    },
    "papermill": {
     "duration": 0.022289,
     "end_time": "2024-04-21T08:17:29.838073",
     "exception": false,
     "start_time": "2024-04-21T08:17:29.815784",
     "status": "completed"
    },
    "tags": []
   },
   "outputs": [],
   "source": [
    "model=SVR(kernel='rbf', gamma='auto')\n"
   ]
  },
  {
   "cell_type": "code",
   "execution_count": 15,
   "id": "67a019d4",
   "metadata": {
    "execution": {
     "iopub.execute_input": "2024-04-21T08:17:29.866493Z",
     "iopub.status.busy": "2024-04-21T08:17:29.865285Z",
     "iopub.status.idle": "2024-04-21T08:17:29.880193Z",
     "shell.execute_reply": "2024-04-21T08:17:29.879094Z"
    },
    "papermill": {
     "duration": 0.031789,
     "end_time": "2024-04-21T08:17:29.882799",
     "exception": false,
     "start_time": "2024-04-21T08:17:29.851010",
     "status": "completed"
    },
    "tags": []
   },
   "outputs": [
    {
     "data": {
      "text/html": [
       "<style>#sk-container-id-1 {color: black;background-color: white;}#sk-container-id-1 pre{padding: 0;}#sk-container-id-1 div.sk-toggleable {background-color: white;}#sk-container-id-1 label.sk-toggleable__label {cursor: pointer;display: block;width: 100%;margin-bottom: 0;padding: 0.3em;box-sizing: border-box;text-align: center;}#sk-container-id-1 label.sk-toggleable__label-arrow:before {content: \"▸\";float: left;margin-right: 0.25em;color: #696969;}#sk-container-id-1 label.sk-toggleable__label-arrow:hover:before {color: black;}#sk-container-id-1 div.sk-estimator:hover label.sk-toggleable__label-arrow:before {color: black;}#sk-container-id-1 div.sk-toggleable__content {max-height: 0;max-width: 0;overflow: hidden;text-align: left;background-color: #f0f8ff;}#sk-container-id-1 div.sk-toggleable__content pre {margin: 0.2em;color: black;border-radius: 0.25em;background-color: #f0f8ff;}#sk-container-id-1 input.sk-toggleable__control:checked~div.sk-toggleable__content {max-height: 200px;max-width: 100%;overflow: auto;}#sk-container-id-1 input.sk-toggleable__control:checked~label.sk-toggleable__label-arrow:before {content: \"▾\";}#sk-container-id-1 div.sk-estimator input.sk-toggleable__control:checked~label.sk-toggleable__label {background-color: #d4ebff;}#sk-container-id-1 div.sk-label input.sk-toggleable__control:checked~label.sk-toggleable__label {background-color: #d4ebff;}#sk-container-id-1 input.sk-hidden--visually {border: 0;clip: rect(1px 1px 1px 1px);clip: rect(1px, 1px, 1px, 1px);height: 1px;margin: -1px;overflow: hidden;padding: 0;position: absolute;width: 1px;}#sk-container-id-1 div.sk-estimator {font-family: monospace;background-color: #f0f8ff;border: 1px dotted black;border-radius: 0.25em;box-sizing: border-box;margin-bottom: 0.5em;}#sk-container-id-1 div.sk-estimator:hover {background-color: #d4ebff;}#sk-container-id-1 div.sk-parallel-item::after {content: \"\";width: 100%;border-bottom: 1px solid gray;flex-grow: 1;}#sk-container-id-1 div.sk-label:hover label.sk-toggleable__label {background-color: #d4ebff;}#sk-container-id-1 div.sk-serial::before {content: \"\";position: absolute;border-left: 1px solid gray;box-sizing: border-box;top: 0;bottom: 0;left: 50%;z-index: 0;}#sk-container-id-1 div.sk-serial {display: flex;flex-direction: column;align-items: center;background-color: white;padding-right: 0.2em;padding-left: 0.2em;position: relative;}#sk-container-id-1 div.sk-item {position: relative;z-index: 1;}#sk-container-id-1 div.sk-parallel {display: flex;align-items: stretch;justify-content: center;background-color: white;position: relative;}#sk-container-id-1 div.sk-item::before, #sk-container-id-1 div.sk-parallel-item::before {content: \"\";position: absolute;border-left: 1px solid gray;box-sizing: border-box;top: 0;bottom: 0;left: 50%;z-index: -1;}#sk-container-id-1 div.sk-parallel-item {display: flex;flex-direction: column;z-index: 1;position: relative;background-color: white;}#sk-container-id-1 div.sk-parallel-item:first-child::after {align-self: flex-end;width: 50%;}#sk-container-id-1 div.sk-parallel-item:last-child::after {align-self: flex-start;width: 50%;}#sk-container-id-1 div.sk-parallel-item:only-child::after {width: 0;}#sk-container-id-1 div.sk-dashed-wrapped {border: 1px dashed gray;margin: 0 0.4em 0.5em 0.4em;box-sizing: border-box;padding-bottom: 0.4em;background-color: white;}#sk-container-id-1 div.sk-label label {font-family: monospace;font-weight: bold;display: inline-block;line-height: 1.2em;}#sk-container-id-1 div.sk-label-container {text-align: center;}#sk-container-id-1 div.sk-container {/* jupyter's `normalize.less` sets `[hidden] { display: none; }` but bootstrap.min.css set `[hidden] { display: none !important; }` so we also need the `!important` here to be able to override the default hidden behavior on the sphinx rendered scikit-learn.org. See: https://github.com/scikit-learn/scikit-learn/issues/21755 */display: inline-block !important;position: relative;}#sk-container-id-1 div.sk-text-repr-fallback {display: none;}</style><div id=\"sk-container-id-1\" class=\"sk-top-container\"><div class=\"sk-text-repr-fallback\"><pre>SVR(gamma=&#x27;auto&#x27;)</pre><b>In a Jupyter environment, please rerun this cell to show the HTML representation or trust the notebook. <br />On GitHub, the HTML representation is unable to render, please try loading this page with nbviewer.org.</b></div><div class=\"sk-container\" hidden><div class=\"sk-item\"><div class=\"sk-estimator sk-toggleable\"><input class=\"sk-toggleable__control sk-hidden--visually\" id=\"sk-estimator-id-1\" type=\"checkbox\" checked><label for=\"sk-estimator-id-1\" class=\"sk-toggleable__label sk-toggleable__label-arrow\">SVR</label><div class=\"sk-toggleable__content\"><pre>SVR(gamma=&#x27;auto&#x27;)</pre></div></div></div></div></div>"
      ],
      "text/plain": [
       "SVR(gamma='auto')"
      ]
     },
     "execution_count": 15,
     "metadata": {},
     "output_type": "execute_result"
    }
   ],
   "source": [
    "model.fit(X_train,y_train)"
   ]
  },
  {
   "cell_type": "code",
   "execution_count": 16,
   "id": "137b8edc",
   "metadata": {
    "execution": {
     "iopub.execute_input": "2024-04-21T08:17:29.918601Z",
     "iopub.status.busy": "2024-04-21T08:17:29.918051Z",
     "iopub.status.idle": "2024-04-21T08:17:29.926312Z",
     "shell.execute_reply": "2024-04-21T08:17:29.924980Z"
    },
    "papermill": {
     "duration": 0.028786,
     "end_time": "2024-04-21T08:17:29.928840",
     "exception": false,
     "start_time": "2024-04-21T08:17:29.900054",
     "status": "completed"
    },
    "tags": []
   },
   "outputs": [],
   "source": [
    "y_pred=model.predict(X_test)"
   ]
  },
  {
   "cell_type": "markdown",
   "id": "f310bbe9",
   "metadata": {
    "papermill": {
     "duration": 0.013425,
     "end_time": "2024-04-21T08:17:29.956013",
     "exception": false,
     "start_time": "2024-04-21T08:17:29.942588",
     "status": "completed"
    },
    "tags": []
   },
   "source": [
    "Calculating the mean squared error"
   ]
  },
  {
   "cell_type": "code",
   "execution_count": 17,
   "id": "233234f3",
   "metadata": {
    "execution": {
     "iopub.execute_input": "2024-04-21T08:17:29.985833Z",
     "iopub.status.busy": "2024-04-21T08:17:29.984854Z",
     "iopub.status.idle": "2024-04-21T08:17:29.992778Z",
     "shell.execute_reply": "2024-04-21T08:17:29.991087Z"
    },
    "papermill": {
     "duration": 0.026589,
     "end_time": "2024-04-21T08:17:29.996203",
     "exception": false,
     "start_time": "2024-04-21T08:17:29.969614",
     "status": "completed"
    },
    "tags": []
   },
   "outputs": [],
   "source": [
    "mse=mean_squared_error(y_test,y_pred)\n"
   ]
  },
  {
   "cell_type": "code",
   "execution_count": 18,
   "id": "8eac8396",
   "metadata": {
    "execution": {
     "iopub.execute_input": "2024-04-21T08:17:30.025567Z",
     "iopub.status.busy": "2024-04-21T08:17:30.025173Z",
     "iopub.status.idle": "2024-04-21T08:17:30.032240Z",
     "shell.execute_reply": "2024-04-21T08:17:30.031067Z"
    },
    "papermill": {
     "duration": 0.024273,
     "end_time": "2024-04-21T08:17:30.034731",
     "exception": false,
     "start_time": "2024-04-21T08:17:30.010458",
     "status": "completed"
    },
    "tags": []
   },
   "outputs": [
    {
     "data": {
      "text/plain": [
       "43.513194319599805"
      ]
     },
     "execution_count": 18,
     "metadata": {},
     "output_type": "execute_result"
    }
   ],
   "source": [
    "mse"
   ]
  },
  {
   "cell_type": "code",
   "execution_count": null,
   "id": "789fbd02",
   "metadata": {
    "papermill": {
     "duration": 0.013551,
     "end_time": "2024-04-21T08:17:30.062275",
     "exception": false,
     "start_time": "2024-04-21T08:17:30.048724",
     "status": "completed"
    },
    "tags": []
   },
   "outputs": [],
   "source": []
  }
 ],
 "metadata": {
  "kaggle": {
   "accelerator": "none",
   "dataSources": [
    {
     "datasetId": 2021680,
     "sourceId": 3350413,
     "sourceType": "datasetVersion"
    }
   ],
   "dockerImageVersionId": 30698,
   "isGpuEnabled": false,
   "isInternetEnabled": true,
   "language": "python",
   "sourceType": "notebook"
  },
  "kernelspec": {
   "display_name": "Python 3",
   "language": "python",
   "name": "python3"
  },
  "language_info": {
   "codemirror_mode": {
    "name": "ipython",
    "version": 3
   },
   "file_extension": ".py",
   "mimetype": "text/x-python",
   "name": "python",
   "nbconvert_exporter": "python",
   "pygments_lexer": "ipython3",
   "version": "3.10.13"
  },
  "papermill": {
   "default_parameters": {},
   "duration": 10.731124,
   "end_time": "2024-04-21T08:17:30.797406",
   "environment_variables": {},
   "exception": null,
   "input_path": "__notebook__.ipynb",
   "output_path": "__notebook__.ipynb",
   "parameters": {},
   "start_time": "2024-04-21T08:17:20.066282",
   "version": "2.5.0"
  }
 },
 "nbformat": 4,
 "nbformat_minor": 5
}
